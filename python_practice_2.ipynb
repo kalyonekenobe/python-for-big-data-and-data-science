{
  "cells": [
    {
      "cell_type": "markdown",
      "metadata": {
        "id": "p9wwt0LZzNvn"
      },
      "source": [
        "# I. Змінні та памʼять."
      ]
    },
    {
      "cell_type": "markdown",
      "metadata": {
        "id": "HTJrrm95xSV9"
      },
      "source": [
        "1. Створити змінні, що посилаються на два цілих числа, що однакові за значенням, де значення належить проміжку від -5 до 256. Перевірте, чи будуть ці змінні рівні тільки за значенням або ж ще будуть посилатися на один і той самий обʼєкт в памʼяті? Наведіть код та дайте текстову відповідь нижче."
      ]
    },
    {
      "cell_type": "code",
      "execution_count": 1,
      "metadata": {
        "id": "TATni2vzayjG",
        "colab": {
          "base_uri": "https://localhost:8080/"
        },
        "outputId": "afbc2624-c1b0-4e1f-f7db-a92fe7316ad0"
      },
      "outputs": [
        {
          "output_type": "stream",
          "name": "stdout",
          "text": [
            "True\n",
            "True\n",
            "True\n"
          ]
        }
      ],
      "source": [
        "variable_a = 10\n",
        "variable_b = 10\n",
        "\n",
        "print(variable_a == variable_b) # Compare variables by value\n",
        "print(id(variable_a) == id(variable_b)) # Compare object ids using id() method\n",
        "print(variable_a is variable_b) # Check if variables refer the same object"
      ]
    },
    {
      "cell_type": "markdown",
      "metadata": {
        "id": "zfRG_o3WbRdg"
      },
      "source": [
        "Змінні будуть рівні за значенням, а також будуть посилатися на один і той самий обʼєкт в памʼяті"
      ]
    },
    {
      "cell_type": "markdown",
      "metadata": {
        "id": "ISORzt6M3vAt"
      },
      "source": [
        "2. За допомогою якої функції можна перевірити належність змінної до вказаного типу даних (напр. чи змінна True посилається на значення булевого та цілочисленого типу)?"
      ]
    },
    {
      "cell_type": "code",
      "execution_count": 2,
      "metadata": {
        "id": "9vL9CFaMbfyo",
        "colab": {
          "base_uri": "https://localhost:8080/"
        },
        "outputId": "86aaf51b-4495-4d9f-f89e-b9432bbb191d"
      },
      "outputs": [
        {
          "output_type": "stream",
          "name": "stdout",
          "text": [
            "True\n",
            "True\n"
          ]
        }
      ],
      "source": [
        "boolean_variable = True\n",
        "\n",
        "print(isinstance(boolean_variable, bool))\n",
        "print(isinstance(boolean_variable, int))"
      ]
    },
    {
      "cell_type": "markdown",
      "metadata": {
        "id": "tRxugKAxwYLw"
      },
      "source": [
        "# II. Цілі числа та числа з рухомою комою"
      ]
    },
    {
      "cell_type": "markdown",
      "metadata": {
        "id": "NLHkgd5Gybc8"
      },
      "source": [
        "3. Створити дві змінні, що посилаються на будь-які ціле число та число з рухомою комою та продемонструвати такі арифметичні операції: додавання, віднімання, ділення, множення, ділення без залишку, ділення по модулю, приведення до ступеню. Всі результати операцій вивести на екран."
      ]
    },
    {
      "cell_type": "code",
      "execution_count": 3,
      "metadata": {
        "id": "nb8u_3pjb2cA",
        "colab": {
          "base_uri": "https://localhost:8080/"
        },
        "outputId": "357c13b2-5c8b-4afb-fc29-55757cbec27e"
      },
      "outputs": [
        {
          "output_type": "stream",
          "name": "stdout",
          "text": [
            "13.65\n",
            "6.35\n",
            "2.73972602739726\n",
            "36.5\n",
            "2.0\n",
            "2.7\n",
            "4466.835921509631\n"
          ]
        }
      ],
      "source": [
        "integer_variable = 10\n",
        "float_variable = 3.65\n",
        "\n",
        "print(integer_variable + float_variable)\n",
        "print(integer_variable - float_variable)\n",
        "print(integer_variable / float_variable)\n",
        "print(integer_variable * float_variable)\n",
        "print(integer_variable // float_variable)\n",
        "print(integer_variable % float_variable)\n",
        "print(integer_variable ** float_variable)"
      ]
    },
    {
      "cell_type": "markdown",
      "metadata": {
        "id": "1kBClKgPzZnC"
      },
      "source": [
        "4. Використовуючи змінні з вправи 3, продемонструйте механізм явного перетворення типів, де числа з рухомою комою перетворюються на цілі числа. Також визначте змінну, що посилається на значення булевого типу і спробуйте явно привести її до цілого числа."
      ]
    },
    {
      "cell_type": "code",
      "execution_count": 6,
      "metadata": {
        "id": "TbqJbkeUcKsD",
        "colab": {
          "base_uri": "https://localhost:8080/"
        },
        "outputId": "fe0779fd-b98b-4919-9847-50fe19b2416e"
      },
      "outputs": [
        {
          "output_type": "stream",
          "name": "stdout",
          "text": [
            "3\n",
            "1\n"
          ]
        }
      ],
      "source": [
        "print(int(float_variable))\n",
        "\n",
        "boolean_variable_exercise_4 = True\n",
        "\n",
        "print(int(boolean_variable_exercise_4))"
      ]
    },
    {
      "cell_type": "markdown",
      "metadata": {
        "id": "EVJ7AflwxrZi"
      },
      "source": [
        "# IІІ. Рядки (String)."
      ]
    },
    {
      "cell_type": "markdown",
      "metadata": {
        "id": "_s5ECzz9zE61"
      },
      "source": [
        "5. Створити пустий рядок двома різними способами."
      ]
    },
    {
      "cell_type": "code",
      "execution_count": 8,
      "metadata": {
        "id": "fkZJHu9Scvc-",
        "colab": {
          "base_uri": "https://localhost:8080/"
        },
        "outputId": "a7d16a80-afee-4e9d-d31f-b54fbdea0b02"
      },
      "outputs": [
        {
          "output_type": "stream",
          "name": "stdout",
          "text": [
            "\n",
            "\n"
          ]
        }
      ],
      "source": [
        "empty_string_a = str()\n",
        "empty_string_b = \"\"\n",
        "\n",
        "print(empty_string_a)\n",
        "print(empty_string_b)"
      ]
    },
    {
      "cell_type": "markdown",
      "metadata": {
        "id": "4Bdn9J3MzLf_"
      },
      "source": [
        "6. Створити рядок з апострофом. Зробити його сирим. Вивести обидва рядка на екран."
      ]
    },
    {
      "cell_type": "code",
      "execution_count": 9,
      "metadata": {
        "id": "ivji_hsmc0GH",
        "colab": {
          "base_uri": "https://localhost:8080/"
        },
        "outputId": "f151498d-341a-46e9-8189-a43a4cd52f9d"
      },
      "outputs": [
        {
          "output_type": "stream",
          "name": "stdout",
          "text": [
            "I'm learning Python!\n",
            "I'm learning Python!\n"
          ]
        }
      ],
      "source": [
        "default_string_with_apostrophe = \"I'm learning Python!\"\n",
        "raw_string_with_apostrophe = r\"I'm learning Python!\"\n",
        "\n",
        "print(default_string_with_apostrophe)\n",
        "print(raw_string_with_apostrophe)"
      ]
    },
    {
      "cell_type": "markdown",
      "metadata": {
        "id": "bg_d8wM4z8dS"
      },
      "source": [
        "7. Створити змінну, що буде посилатися на Ваше прізвище латинкою. Створити форматований рядок, який буде мати вигляд \"My surname is ______\", де на місці нижніх підкреслень буде Ваше прізвище зі змінної."
      ]
    },
    {
      "cell_type": "code",
      "execution_count": 10,
      "metadata": {
        "id": "kuxFgpWndACq",
        "colab": {
          "base_uri": "https://localhost:8080/"
        },
        "outputId": "71c59ee0-f9ae-4a85-f7e6-3b0a10f5d8fe"
      },
      "outputs": [
        {
          "output_type": "stream",
          "name": "stdout",
          "text": [
            "My surname is Igumnov\n"
          ]
        }
      ],
      "source": [
        "surname = \"Igumnov\"\n",
        "formatted_surname_string = f\"My surname is {surname}\"\n",
        "\n",
        "print(formatted_surname_string)"
      ]
    },
    {
      "cell_type": "markdown",
      "metadata": {
        "id": "1Nc6RqvQ0hxU"
      },
      "source": [
        "8. Маючи рядок \"My dog is crazy.\" перетворити його на список [\"my\", \"dog\", \"is\", \"crazy\"]"
      ]
    },
    {
      "cell_type": "code",
      "execution_count": 11,
      "metadata": {
        "id": "w1Ya4RqedUhw",
        "colab": {
          "base_uri": "https://localhost:8080/"
        },
        "outputId": "0c1c52dd-459e-44b1-cd65-41284cf256b3"
      },
      "outputs": [
        {
          "output_type": "stream",
          "name": "stdout",
          "text": [
            "['My', 'dog', 'is', 'crazy']\n"
          ]
        }
      ],
      "source": [
        "string_to_be_splitted = \"My dog is crazy.\"\n",
        "string_to_be_splitted_without_dot = string_to_be_splitted[0:-1]\n",
        "splitted_string = string_to_be_splitted_without_dot.split(\" \")\n",
        "\n",
        "print(splitted_string)"
      ]
    },
    {
      "cell_type": "markdown",
      "metadata": {
        "id": "GYVqN9uP1D4n"
      },
      "source": [
        "# IV. Робота зі списками."
      ]
    },
    {
      "cell_type": "markdown",
      "metadata": {
        "id": "7-DeDunw2sO-"
      },
      "source": [
        "9. Створити список двома різними за синтаксисом способами. За допомогою вбудованої функції обчисліть довжину одного з них."
      ]
    },
    {
      "cell_type": "code",
      "execution_count": 13,
      "metadata": {
        "id": "zxg06Uuxdyoh",
        "colab": {
          "base_uri": "https://localhost:8080/"
        },
        "outputId": "d4492604-fa09-42f2-c76f-ac165371eed2"
      },
      "outputs": [
        {
          "output_type": "stream",
          "name": "stdout",
          "text": [
            "5\n",
            "5\n"
          ]
        }
      ],
      "source": [
        "list_a = list((1, 2, 3, 4, 5))\n",
        "list_b = [1, 2, 3, 4, 5]\n",
        "\n",
        "print(len(list_a))\n",
        "print(len(list_b))"
      ]
    },
    {
      "cell_type": "markdown",
      "metadata": {
        "id": "8vmGUTjL22gI"
      },
      "source": [
        "10. Створіть два списка та за допомогою спеціального методу додайте другий з них в якості останнього елемента першого."
      ]
    },
    {
      "cell_type": "code",
      "execution_count": 16,
      "metadata": {
        "id": "uHtjWYw7d7hm",
        "colab": {
          "base_uri": "https://localhost:8080/"
        },
        "outputId": "39f45e6d-f6e3-41fa-c5e9-7020df790eeb"
      },
      "outputs": [
        {
          "output_type": "stream",
          "name": "stdout",
          "text": [
            "[5, 7, 5, 4, 1, [9, 9, 3, 1]]\n"
          ]
        }
      ],
      "source": [
        "first_list = [5, 7, 5, 4, 1]\n",
        "second_list = [9, 9, 3, 1]\n",
        "\n",
        "first_list.append(second_list)\n",
        "\n",
        "print(first_list)"
      ]
    },
    {
      "cell_type": "markdown",
      "metadata": {
        "id": "JC3BkD-67_--"
      },
      "source": [
        "11. Створіть список, де елементами цього списку також є списки. Отримай перший елемент з останнього рядка та виведи значення на екран."
      ]
    },
    {
      "cell_type": "code",
      "execution_count": 18,
      "metadata": {
        "id": "Kz2jZHsGeLlz",
        "colab": {
          "base_uri": "https://localhost:8080/"
        },
        "outputId": "4ad7177a-98fe-48f1-e41b-6249277dfff2"
      },
      "outputs": [
        {
          "output_type": "stream",
          "name": "stdout",
          "text": [
            "-1\n"
          ]
        }
      ],
      "source": [
        "list_of_the_lists = [[5, 4, 2, 7], [1, 3, 1], [5], [10, 5, 15, 6], [-1, -2, -3, -4, -5, -6, -7]]\n",
        "\n",
        "print(list_of_the_lists[-1][0]) # However, if the \"first element\" in the task means the element with the index 1 then the answer will be: list_of_the_lists[-1][1]"
      ]
    },
    {
      "cell_type": "markdown",
      "metadata": {
        "id": "JA47PKTv8zFK"
      },
      "source": [
        "12. Створіть список з десяти елементів різного типу. Отримайте всі елементи, окрім двох перших та двох останніх та збережіть їх в новій змінній."
      ]
    },
    {
      "cell_type": "code",
      "execution_count": 20,
      "metadata": {
        "id": "_rHdUR-ueP4-",
        "colab": {
          "base_uri": "https://localhost:8080/"
        },
        "outputId": "7dfa0ef8-3400-4fb2-8393-c5a9b26d1fd2"
      },
      "outputs": [
        {
          "output_type": "stream",
          "name": "stdout",
          "text": [
            "[(6+2j), False, 'test', [4, -1, 2.33], (1, 2, 3), {'a': 123}]\n"
          ]
        }
      ],
      "source": [
        "list_of_elements_of_different_types = [15, 1.3, 2j + 6, False, \"test\", [4, -1, 2.33], (1, 2, 3), { \"a\": 123 }, True, \"final\"]\n",
        "\n",
        "slice_of_the_list = list_of_elements_of_different_types[2:-2]\n",
        "\n",
        "print(slice_of_the_list)"
      ]
    },
    {
      "cell_type": "markdown",
      "metadata": {
        "id": "pCjR1dJb1Qbi"
      },
      "source": [
        "# V. Робота з кортежами."
      ]
    },
    {
      "cell_type": "markdown",
      "metadata": {
        "id": "fAZCxAX06R_k"
      },
      "source": [
        "14. Створити кортеж з один елементом."
      ]
    },
    {
      "cell_type": "code",
      "execution_count": 26,
      "metadata": {
        "id": "H7d82WkQev3e",
        "colab": {
          "base_uri": "https://localhost:8080/"
        },
        "outputId": "f7fe6460-f9fc-4148-d960-6d8745eb5d8d"
      },
      "outputs": [
        {
          "output_type": "stream",
          "name": "stdout",
          "text": [
            "(1,)\n"
          ]
        }
      ],
      "source": [
        "tuple_with_single_element = (1,)\n",
        "\n",
        "print(tuple_with_single_element)"
      ]
    },
    {
      "cell_type": "markdown",
      "metadata": {
        "id": "8LCtYcmI6w1M"
      },
      "source": [
        "15. Порівняйте список та кортеж. Назвіть схожості та відмінності, випадки використання."
      ]
    },
    {
      "cell_type": "markdown",
      "metadata": {
        "id": "fUsN1Hnue0C6"
      },
      "source": [
        "Схожості:\n",
        " - Обидва зберігають впорядковані елементи\n",
        " - Доступ до елементів за індексом\n",
        " - Можуть містити елементи будь-якого типу\n",
        "\n",
        "Відмінності:\n",
        " - Список - змінюваний (mutable), в той час як кортеж - незмінний (immutable)\n",
        " - Список працює повільніше, оскільки є змінюваним, кортеж відповідно - швидше\n",
        " - Список оголошується квадратними дужками - [], а кортеж - круглими ()\n",
        " - Список використовує більше памʼяті, а кортеж - менше\n",
        " - Список менш безпечний, так як його можна змінити. Кортеж - безпечніший у використанні\n",
        " - Кортеж можна використовувати як ключ у dict, якщо містить тільки незмінні типи, а список не можна взагалі\n",
        " - *Скоріше не відмінність, а просто рекомендації щодо викоростання*: список частіше використовуються для однорідних колекцій даних, які можуть змінюватися. Наприклад, список чисел або список рядків, в той час як кортеж частіше застосовуються для структурованих даних, де кожен елемент має своє значення, подібно до запису в базі даних"
      ]
    },
    {
      "cell_type": "markdown",
      "metadata": {
        "id": "m0xrwFijAmDD"
      },
      "source": [
        "16. Створіть кортеж з 11ти елементів чисел з рухомою комою та отримайте кожен парний за індексом елемент в зворотньому порядку. Наприклад, маючи (1.2, 2.3, 3.3, 4.3, 5.3, 6.3, 7.3, 8.3, 9.3, 0.3), отримати (0.3, 8.3, 6.3, 4.3, 2.3). Результат збережіть в нову змінну та виведіть на екран."
      ]
    },
    {
      "cell_type": "code",
      "execution_count": 28,
      "metadata": {
        "id": "p-5DAH6XfAGA",
        "colab": {
          "base_uri": "https://localhost:8080/"
        },
        "outputId": "59c2ef3f-172c-4235-ce6a-8c73de08a52c"
      },
      "outputs": [
        {
          "output_type": "stream",
          "name": "stdout",
          "text": [
            "(11.94, -7.54, 10.3, 8.41, 4.4, 0.6)\n"
          ]
        }
      ],
      "source": [
        "tuple_of_float_numbers = (0.6, 4.71, 4.4, 6.5, 8.41, -9.75, 10.3, 8.8, -7.54, 9.04, 11.94)\n",
        "\n",
        "reversed_even_tupen_of_float_numbers = tuple_of_float_numbers[-1::-2]\n",
        "\n",
        "print(reversed_even_tupen_of_float_numbers)"
      ]
    },
    {
      "cell_type": "markdown",
      "metadata": {
        "id": "rW_I9dt3x6cW"
      },
      "source": [
        "# VI. Множини (Set)."
      ]
    },
    {
      "cell_type": "markdown",
      "metadata": {
        "id": "zNjRLHLw1Bgg"
      },
      "source": [
        "17. Створити множину без елементів. Після цого за допомогою методу додайте кілька різних елементів до множини. Чи множини є змінним типом даних?"
      ]
    },
    {
      "cell_type": "code",
      "execution_count": 31,
      "metadata": {
        "id": "KOv7zc2Kfo4N",
        "colab": {
          "base_uri": "https://localhost:8080/"
        },
        "outputId": "472773a3-a806-4f14-9202-aa8c9ea9cc53"
      },
      "outputs": [
        {
          "output_type": "stream",
          "name": "stdout",
          "text": [
            "{'test', (-4, 5.5, 2), 123, True}\n"
          ]
        }
      ],
      "source": [
        "set_a = set()\n",
        "\n",
        "set_a.add(123)\n",
        "set_a.add(\"test\")\n",
        "set_a.add(True)\n",
        "set_a.add((-4, 5.5, 2))\n",
        "\n",
        "print(set_a)"
      ]
    },
    {
      "cell_type": "markdown",
      "metadata": {
        "id": "vxS6dVYiftZQ"
      },
      "source": [
        "Так, множини є змінним (mutable) типом даних"
      ]
    },
    {
      "cell_type": "markdown",
      "metadata": {
        "id": "gHpT0Zw_1HEF"
      },
      "source": [
        "18. Створити множину, маючи список my_list = [1, 1, 2, 67, 67, 8, 9]. Пояснити, чому \"зникли\" деякі елементи."
      ]
    },
    {
      "cell_type": "code",
      "execution_count": 32,
      "metadata": {
        "id": "qCN4uvJ_fxmu",
        "colab": {
          "base_uri": "https://localhost:8080/"
        },
        "outputId": "44c955a8-420d-4b49-9cad-f99faacc1f86"
      },
      "outputs": [
        {
          "output_type": "stream",
          "name": "stdout",
          "text": [
            "{1, 2, 67, 8, 9}\n"
          ]
        }
      ],
      "source": [
        "my_list = [1, 1, 2, 67, 67, 8, 9]\n",
        "my_set = set(my_list)\n",
        "\n",
        "print(my_set)"
      ]
    },
    {
      "cell_type": "markdown",
      "metadata": {
        "id": "tFNc1e20fyny"
      },
      "source": [
        "Множина (set) містить лише унікальні елементи"
      ]
    },
    {
      "cell_type": "markdown",
      "metadata": {
        "id": "SRMkGizS1UwY"
      },
      "source": [
        "19. Створіть дві множини. Продемонстуйте над ними операції: обʼєднання, різниці, пересічі та симетричної різниці. Використовуйте методи, що не змінюють множини, а створюють нові."
      ]
    },
    {
      "cell_type": "code",
      "execution_count": 40,
      "metadata": {
        "id": "h0T-VuDnf3Ri",
        "colab": {
          "base_uri": "https://localhost:8080/"
        },
        "outputId": "df7af666-8605-42ed-a343-fe7d98e82e04"
      },
      "outputs": [
        {
          "output_type": "stream",
          "name": "stdout",
          "text": [
            "Union: {1, 2, 3, 4, 5, 6, 7, 8}\n",
            "Intersection: {4, 5}\n",
            "Difference x\\y: {1, 2, 3}\n",
            "Difference y\\x: {8, 6, 7}\n",
            "Symetric difference: {1, 2, 3, 6, 7, 8}\n"
          ]
        }
      ],
      "source": [
        "set_x = {1, 2, 3, 4, 5}\n",
        "set_y = {4, 5, 6, 7, 8}\n",
        "\n",
        "union_set = set_x.union(set_y)\n",
        "print(f\"Union: {union_set}\")\n",
        "\n",
        "intersection_set = set_x.intersection(set_y)\n",
        "print(f\"Intersection: {intersection_set}\")\n",
        "\n",
        "difference_set_x_y = set_x.difference(set_y)\n",
        "print(f\"Difference x\\\\y: {difference_set_x_y}\")\n",
        "\n",
        "difference_set_y_x = set_y.difference(set_x)\n",
        "print(f\"Difference y\\\\x: {difference_set_y_x}\")\n",
        "\n",
        "symmetric_difference_set = set_x.symmetric_difference(set_y)\n",
        "print(f\"Symetric difference: {symmetric_difference_set}\")"
      ]
    },
    {
      "cell_type": "markdown",
      "metadata": {
        "id": "kWc8gkzTx7Ea"
      },
      "source": [
        "# VII. Словники (Dictionary)."
      ]
    },
    {
      "cell_type": "markdown",
      "metadata": {
        "id": "i5FLwj-B2ybQ"
      },
      "source": [
        "20. Створіть пустий словник. До нього додайте чотири пари елементів такі, щоб їхні ключі були різних типів. Чи може список бути ключем? Чому?"
      ]
    },
    {
      "cell_type": "code",
      "execution_count": 41,
      "metadata": {
        "id": "hxgv3BzrgLAV",
        "colab": {
          "base_uri": "https://localhost:8080/"
        },
        "outputId": "2f019c59-2454-4ce0-c764-61bbec3d0856"
      },
      "outputs": [
        {
          "output_type": "stream",
          "name": "stdout",
          "text": [
            "{'key': 'string_key', 3: 'integer_key', (1, 2, 3): 'tuple_key', 3.14: 'float_ley'}\n"
          ]
        }
      ],
      "source": [
        "my_dictionary = {}\n",
        "\n",
        "my_dictionary[\"key\"] = \"string_key\"\n",
        "my_dictionary[3] = \"integer_key\"\n",
        "my_dictionary[(1, 2, 3)] = \"tuple_key\"\n",
        "my_dictionary[3.14] = \"float_ley\"\n",
        "\n",
        "print(my_dictionary)"
      ]
    },
    {
      "cell_type": "markdown",
      "metadata": {
        "id": "zwa7UVN-gR3m"
      },
      "source": [
        "Ні, список не може бути ключем у словнику, тому що списки є змінними об'єктами. Ключі словників повинні бути незмінними (hashable), їх значення не повинні змінюватися після того, як вони були використані як ключ."
      ]
    },
    {
      "cell_type": "markdown",
      "metadata": {
        "id": "WM_pMlJsgoNf"
      },
      "source": [
        "21. Створіть словник, де значенням в одній з пар теж буде словник, який теж має вкладений словник. Виведіть на екран значення, що міститься в словнику, що знаходиться на найнижчому рівні ієрархії вкладеності (найбільш внутрішній)."
      ]
    },
    {
      "cell_type": "code",
      "execution_count": 44,
      "metadata": {
        "id": "60dlP7IHhAy4",
        "colab": {
          "base_uri": "https://localhost:8080/"
        },
        "outputId": "ac1071da-efae-483c-da92-b35fb8207358"
      },
      "outputs": [
        {
          "output_type": "stream",
          "name": "stdout",
          "text": [
            "level_c_value\n"
          ]
        }
      ],
      "source": [
        "nested_dictionary = {\n",
        "    \"level_a\": {\n",
        "        \"level_b\": {\n",
        "            \"level_c\": \"level_c_value\"\n",
        "        }\n",
        "    },\n",
        "    \"level_d\": \"level_d_value\"\n",
        "}\n",
        "\n",
        "print(nested_dictionary[\"level_a\"][\"level_b\"][\"level_c\"])"
      ]
    },
    {
      "cell_type": "markdown",
      "metadata": {
        "id": "xOZP0hkx6cCr"
      },
      "source": [
        "# Вітаю! Ви велика(ий) молодець, що впоралась(вся). Похваліть себе та побалуйте чимось приємним. Я Вами пишаюся."
      ]
    }
  ],
  "metadata": {
    "colab": {
      "provenance": []
    },
    "kernelspec": {
      "display_name": "Python 3",
      "name": "python3"
    },
    "language_info": {
      "name": "python"
    }
  },
  "nbformat": 4,
  "nbformat_minor": 0
}