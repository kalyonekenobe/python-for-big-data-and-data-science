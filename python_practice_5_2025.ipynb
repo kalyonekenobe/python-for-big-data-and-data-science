{
 "nbformat": 4,
 "nbformat_minor": 0,
 "metadata": {
  "colab": {
   "provenance": []
  },
  "kernelspec": {
   "name": "python3",
   "display_name": "Python 3"
  },
  "language_info": {
   "name": "python"
  }
 },
 "cells": [
  {
   "cell_type": "markdown",
   "source": [
    "# I. OOP"
   ],
   "metadata": {
    "id": "5qV_sehzFCTp"
   }
  },
  {
   "cell_type": "markdown",
   "source": [
    "1. (6б). Створіть клас Building, додайте три атрибути, один з яких має значення за замовчуванням та два методи на свій розсуд."
   ],
   "metadata": {
    "id": "tx_U_hOALyfg"
   }
  },
  {
   "cell_type": "code",
   "source": [
    "class Building:\n",
    "    def __init__(self, address, category, floors=1):\n",
    "        self.address = address\n",
    "        self.category = category\n",
    "        self.floors = floors\n",
    "\n",
    "    def get_info(self):\n",
    "        return f\"Building ({self.category}) at {self.address}, {self.floors} floors.\"\n",
    "\n",
    "    def update_address(self, new_address):\n",
    "        self.address = new_address"
   ],
   "metadata": {
    "id": "-Vf895KaL88N"
   },
   "execution_count": 8,
   "outputs": []
  },
  {
   "cell_type": "markdown",
   "source": [
    "2. (2б). Створіть два обʼєкти цього класу, де один з обʼєктів створюється із дефолтним значенням атрибуту. На одному обʼєкті отримайте значення його атрибуту, а на іншому викличте один з його методів."
   ],
   "metadata": {
    "id": "X_UlOMB0L93w"
   }
  },
  {
   "cell_type": "code",
   "source": [
    "bungalow = Building(\"St. Wall 5\", \"bungalow\")\n",
    "skyscrapper = Building(\"St. Kyivska 15\", \"scyscrapper\", 80)\n",
    "\n",
    "print(bungalow.address)\n",
    "print(skyscrapper.get_info())"
   ],
   "metadata": {
    "id": "7gBu0ESOMCpG",
    "colab": {
     "base_uri": "https://localhost:8080/"
    },
    "outputId": "58f2b0b8-9a5f-4a75-ff7b-c4edb25d6460"
   },
   "execution_count": 9,
   "outputs": [
    {
     "output_type": "stream",
     "name": "stdout",
     "text": [
      "St. Wall 5\n",
      "Building (scyscrapper) at St. Kyivska 15, 80 floors.\n"
     ]
    }
   ]
  },
  {
   "cell_type": "markdown",
   "source": [
    "3. (5б). Створіть клас, де атрибути мають різні рівні доступу. Спробуйте отримати їхні значення та опишіть результати."
   ],
   "metadata": {
    "id": "HoqSCZt1MHn5"
   }
  },
  {
   "cell_type": "code",
   "source": [
    "class CryptoWallet:\n",
    "    def __init__(self, owner, public_key, private_key):\n",
    "        self.public_key = public_key\n",
    "        self._owner = owner\n",
    "        self.__private_key = private_key\n",
    "\n",
    "wallet = CryptoWallet(\"Oleksandr\", \"G5ZegMhe8wwnw257tzAdWfDdYWfE2SbVwK4VEpWTYN9A\", \"67rpwLCuS5DGA8KGZXKsVPuheKEb183tzoZ8WFUAFJo25Nenae1WuSK1Gbr9d1AfLZ4utE1RWyeavtvRyui1zS4T\")\n",
    "\n",
    "print(wallet.public_key)      # Will print the public attribute \"public_key\" of the \"CryptoWallet\" class\n",
    "print(wallet._owner)          # Will print the protected attribute \"_owner\" of the \"CryptoWallet\" class (it is not recommended to access protected attributes from outside)\n",
    "print(wallet.__private_key)   # Will raise an exception, because cannot access the private attribute \"__private_key\" of the \"CryptoWallet\" class from outside"
   ],
   "metadata": {
    "id": "r9b3vJxBMSPV",
    "colab": {
     "base_uri": "https://localhost:8080/",
     "height": 251
    },
    "outputId": "292552c7-fd34-40f9-c0c8-9be2b7628578"
   },
   "execution_count": 12,
   "outputs": [
    {
     "output_type": "stream",
     "name": "stdout",
     "text": [
      "G5ZegMhe8wwnw257tzAdWfDdYWfE2SbVwK4VEpWTYN9A\n",
      "Oleksandr\n"
     ]
    },
    {
     "output_type": "error",
     "ename": "AttributeError",
     "evalue": "'CryptoWallet' object has no attribute '__private_key'",
     "traceback": [
      "\u001B[0;31m---------------------------------------------------------------------------\u001B[0m",
      "\u001B[0;31mAttributeError\u001B[0m                            Traceback (most recent call last)",
      "\u001B[0;32m<ipython-input-12-1a90fab641cd>\u001B[0m in \u001B[0;36m<cell line: 0>\u001B[0;34m()\u001B[0m\n\u001B[1;32m      9\u001B[0m \u001B[0mprint\u001B[0m\u001B[0;34m(\u001B[0m\u001B[0mwallet\u001B[0m\u001B[0;34m.\u001B[0m\u001B[0mpublic_key\u001B[0m\u001B[0;34m)\u001B[0m      \u001B[0;31m# Will print the public attribute \"public_key\" of the \"CryptoWallet\" class\u001B[0m\u001B[0;34m\u001B[0m\u001B[0;34m\u001B[0m\u001B[0m\n\u001B[1;32m     10\u001B[0m \u001B[0mprint\u001B[0m\u001B[0;34m(\u001B[0m\u001B[0mwallet\u001B[0m\u001B[0;34m.\u001B[0m\u001B[0m_owner\u001B[0m\u001B[0;34m)\u001B[0m          \u001B[0;31m# Will print the protected attribute \"_owner\" of the \"CryptoWallet\" class (it is not recommended to access protected attributes from outside)\u001B[0m\u001B[0;34m\u001B[0m\u001B[0;34m\u001B[0m\u001B[0m\n\u001B[0;32m---> 11\u001B[0;31m \u001B[0mprint\u001B[0m\u001B[0;34m(\u001B[0m\u001B[0mwallet\u001B[0m\u001B[0;34m.\u001B[0m\u001B[0m__private_key\u001B[0m\u001B[0;34m)\u001B[0m   \u001B[0;31m# Will raise an exception, because cannot access the private attribute \"__private_key\" of the \"CryptoWallet\" class from outside\u001B[0m\u001B[0;34m\u001B[0m\u001B[0;34m\u001B[0m\u001B[0m\n\u001B[0m",
      "\u001B[0;31mAttributeError\u001B[0m: 'CryptoWallet' object has no attribute '__private_key'"
     ]
    }
   ]
  },
  {
   "cell_type": "markdown",
   "source": [
    "4. (7б). Як ви розумієте термін self? Для чого використовується метод __init __?"
   ],
   "metadata": {
    "id": "5op2m2vgMSkZ"
   }
  },
  {
   "cell_type": "markdown",
   "source": [
    "`self` - обʼєкт, що посилається на екземпляр класу та використовується для доступу до атрибутів і методів поточного об'єкта. Наприклад, в контексті методу класу, `self` містить інформацію про екземпляр класу, над яким було викликано даний метод.\n",
    "\n",
    "Метод `__init__` (конструктор класу) використовується для створення нового екземпляру певного класу та ініціалізує його атрибути (встановлює початковий стан).  "
   ],
   "metadata": {
    "id": "DyiPqNRvMasx"
   }
  },
  {
   "cell_type": "markdown",
   "source": [
    "5. (9б). Створіть клас 3D-фігура без атрибутів, з методом get_volume для отримання об'єму фігури, що повертає 0 та __add __, який приймає self та other в якості аргументів, а повертає суму об'ємів 3d-фігур self та other."
   ],
   "metadata": {
    "id": "-6X8EGfjMd2y"
   }
  },
  {
   "cell_type": "code",
   "source": [
    "class Shape3D:\n",
    "    def get_volume(self):\n",
    "        return 0\n",
    "\n",
    "    def __add__(self, other):\n",
    "        if not isinstance(other, Shape3D):\n",
    "            raise Exception(\"Cannot add the instance of Shape3D with the instance of other class\")\n",
    "\n",
    "        return self.get_volume() + other.get_volume()\n",
    ""
   ],
   "metadata": {
    "id": "4rvO_wYUMaEr"
   },
   "execution_count": 18,
   "outputs": []
  },
  {
   "cell_type": "markdown",
   "source": [
    "6. (11б). Створіть 2 дочірніх класи від 3d-фігура: Циліндр та Куб, які мають атрибути, необхідні для розрахунку об'єму. Визначте метод get_volume в кожному з них так, щоби вони розраховували об'єм у залежності від формули для кожного типу фігури. Створіть обʼєкт класу Циліндр та обʼєкт класу Куб. Виконайте операцію суми за допомогою оператора + між ними, аби знайти сумарний об'єм."
   ],
   "metadata": {
    "id": "SFcKnnv5Mo_z"
   }
  },
  {
   "cell_type": "code",
   "source": [
    "import math\n",
    "\n",
    "\n",
    "class Cylinder(Shape3D):\n",
    "    def __init__(self, radius, height):\n",
    "        self.radius = radius\n",
    "        self.height = height\n",
    "\n",
    "    def get_volume(self):\n",
    "        return math.pi * self.radius ** 2 * self.height\n",
    "\n",
    "\n",
    "class Cube(Shape3D):\n",
    "    def __init__(self, side):\n",
    "        self.side = side\n",
    "\n",
    "    def get_volume(self):\n",
    "        return self.side ** 3\n",
    "\n",
    "\n",
    "cylinder = Cylinder(3, 10)\n",
    "cube = Cube(4)\n",
    "\n",
    "print(cylinder + cube)"
   ],
   "metadata": {
    "id": "H3GVNr69Muf3",
    "colab": {
     "base_uri": "https://localhost:8080/"
    },
    "outputId": "3322653a-a21e-4041-e481-0633a3736e4c"
   },
   "execution_count": 21,
   "outputs": [
    {
     "output_type": "stream",
     "name": "stdout",
     "text": [
      "346.7433388230814\n"
     ]
    }
   ]
  },
  {
   "cell_type": "markdown",
   "source": [
    "7. (3б). Продемонструйте різницю між isinstance та issubclass."
   ],
   "metadata": {
    "id": "HCvR206YMvLK"
   }
  },
  {
   "cell_type": "code",
   "source": [
    "# Checks if an object is an instance of a class\n",
    "print(isinstance(cylinder, Cylinder))\n",
    "print(isinstance(cylinder, Shape3D))\n",
    "print(isinstance(cylinder, Cube))\n",
    "\n",
    "# Checks if a class is a subclass of another class\n",
    "print(issubclass(Cylinder, Shape3D))\n",
    "print(issubclass(Cube, Shape3D))\n",
    "print(issubclass(Cylinder, Cube))\n",
    "# print(issubclass(cube, Shape3D))        # This will raise an exception because cube is an object, not a class"
   ],
   "metadata": {
    "id": "L_V1bBvDM0GN",
    "colab": {
     "base_uri": "https://localhost:8080/"
    },
    "outputId": "421bc2f4-0a95-4ad1-84e7-62526342319e"
   },
   "execution_count": 25,
   "outputs": [
    {
     "output_type": "stream",
     "name": "stdout",
     "text": [
      "True\n",
      "True\n",
      "False\n",
      "True\n",
      "True\n",
      "False\n"
     ]
    }
   ]
  },
  {
   "cell_type": "markdown",
   "source": [
    "8. (13б). Створіть клас EWallet з приватними атрибутами balance та id. Реалізуйте методи поповнення та зняття коштів, забезпечивши належну інкапсуляцію. Підказка: використовуйте декоратори property та setter."
   ],
   "metadata": {
    "id": "jjsaBZ-iM0Qq"
   }
  },
  {
   "cell_type": "code",
   "source": [
    "class EWallet:\n",
    "    def __init__(self, id, balance=0):\n",
    "        self.__id = id\n",
    "        self.__balance = balance\n",
    "\n",
    "    @property\n",
    "    def balance(self):\n",
    "        return self.__balance\n",
    "\n",
    "    @balance.setter\n",
    "    def balance(self, amount):\n",
    "        if amount < 0:\n",
    "            raise Exception(\"Cannot set the negative balance\")\n",
    "\n",
    "        self.__balance = amount\n",
    "\n",
    "    @property\n",
    "    def id(self):\n",
    "        return self.__id\n",
    "\n",
    "    def deposit(self, amount):\n",
    "        if amount <= 0:\n",
    "            raise Exception(\"The deposited amount must be the positive number\")\n",
    "\n",
    "        self.__balance += amount\n",
    "\n",
    "    def withdraw(self, amount):\n",
    "        if amount < 0:\n",
    "            raise Exception(\"Cannot withdraw the negative amount\")\n",
    "\n",
    "        if amount > self.__balance:\n",
    "            raise Exception(\"Insufficient funds\")\n",
    "\n",
    "        self.__balance -= amount\n",
    "\n",
    "\n",
    "wallet = EWallet(1)\n",
    "\n",
    "print(f\"Wallet ID: {wallet.id}\")\n",
    "\n",
    "wallet.deposit(100)\n",
    "print(wallet.balance)\n",
    "\n",
    "wallet.withdraw(50)\n",
    "print(wallet.balance)\n",
    "\n",
    "# This code will raise an exception due to \"Insufficient funds\"\n",
    "# wallet.withdraw(100)\n",
    "# print(wallet.balance)"
   ],
   "metadata": {
    "id": "xCvZ7lh8M7YA",
    "colab": {
     "base_uri": "https://localhost:8080/"
    },
    "outputId": "c06c2a94-1894-45f5-a842-06e7c3286ef4"
   },
   "execution_count": 48,
   "outputs": [
    {
     "output_type": "stream",
     "name": "stdout",
     "text": [
      "Wallet ID: 1\n",
      "100\n",
      "50\n"
     ]
    }
   ]
  },
  {
   "cell_type": "markdown",
   "source": [
    "9. (11б). Створіть клас ShoppingCart, який містить список об'єктів типу Item. Реалізуйте методи для додавання айтемів, їх видалення та відображення списку айтемів."
   ],
   "metadata": {
    "id": "tIzL2SJTM8ft"
   }
  },
  {
   "cell_type": "code",
   "source": [
    "class Item:\n",
    "    def __init__(self, name, price):\n",
    "        self.name = name\n",
    "        self.price = price\n",
    "\n",
    "    def __str__(self):\n",
    "        return f\"{self.name} - ${self.price}\"\n",
    "\n",
    "\n",
    "class ShoppingCart:\n",
    "    def __init__(self):\n",
    "        self.items = []\n",
    "\n",
    "    def add_item(self, item):\n",
    "        self.items.append(item)\n",
    "\n",
    "    def remove_item(self, item):\n",
    "        if not(item in self.items):\n",
    "            raise Exception(\"The item was not found in the cart\")\n",
    "\n",
    "        self.items.remove(item)\n",
    "\n",
    "    def display_items(self):\n",
    "        if not self.items:\n",
    "            print(\"Your cart is empty\")\n",
    "            return\n",
    "\n",
    "        for item in self.items:\n",
    "            print(item)\n",
    "\n",
    "\n",
    "cart = ShoppingCart()\n",
    "cart.display_items()\n",
    "\n",
    "item1 = Item(\"Laptop\", 1000)\n",
    "item2 = Item(\"Phone\", 500)\n",
    "\n",
    "cart.add_item(item1)\n",
    "cart.add_item(item2)\n",
    "cart.display_items()\n",
    "\n",
    "cart.remove_item(item1)\n",
    "# cart.remove_item(item1)    # This line will raise the exception, because \"The item was not found in the cart\"\n",
    "cart.display_items()"
   ],
   "metadata": {
    "id": "HWxfJKLtNAUZ",
    "colab": {
     "base_uri": "https://localhost:8080/"
    },
    "outputId": "83228a9e-0ca0-4fb4-afff-b05b41e480c0"
   },
   "execution_count": 56,
   "outputs": [
    {
     "output_type": "stream",
     "name": "stdout",
     "text": [
      "Your cart is empty\n",
      "Laptop - $1000\n",
      "Phone - $500\n",
      "Phone - $500\n"
     ]
    }
   ]
  },
  {
   "cell_type": "markdown",
   "source": [
    "10. (13б). Створіть клас Vehicle з атрибутами brand (manufacturer) та production_age. Створіть ще один клас Engine з такими атрибутами, як type (ex. petrol) та size (volume, litres). Створіть клас Car, який успадковує обидва класи Vehicle та Engine. Продемонструйте використання множинної спадковості, створивши обʼєкт класу Car та отримавши mro для цього класу."
   ],
   "metadata": {
    "id": "lmV8pAwwNIqu"
   }
  },
  {
   "cell_type": "code",
   "source": [
    "class Vehicle:\n",
    "    def __init__(self, brand, production_age):\n",
    "        self.brand = brand\n",
    "        self.production_age = production_age\n",
    "\n",
    "\n",
    "class Engine:\n",
    "    def __init__(self, engine_type, size):\n",
    "        self.engine_type = engine_type\n",
    "        self.size = size\n",
    "\n",
    "\n",
    "class Car(Vehicle, Engine):\n",
    "    def __init__(self, brand, production_age, engine_type, size):\n",
    "        Vehicle.__init__(self, brand, production_age)\n",
    "        Engine.__init__(self, engine_type, size)\n",
    "\n",
    "\n",
    "car = Car(\"Audi\", 1, \"Petrol\", 2.0)\n",
    "print(f\"Car brand: {car.brand}\")\n",
    "print(f\"Car production age: {car.production_age}\")\n",
    "print(f\"Car engine type: {car.engine_type}\")\n",
    "print(f\"Car engine size: {car.size}\")\n",
    "\n",
    "print(Car.mro())"
   ],
   "metadata": {
    "id": "R49grKlWNPeN",
    "colab": {
     "base_uri": "https://localhost:8080/"
    },
    "outputId": "da867960-1950-4c67-d566-b8e937dc9b8e"
   },
   "execution_count": 61,
   "outputs": [
    {
     "output_type": "stream",
     "name": "stdout",
     "text": [
      "Car brand: Audi\n",
      "Car production age: 1\n",
      "Car engine type: Petrol\n",
      "Car engine size: 2.0\n",
      "[<class '__main__.Car'>, <class '__main__.Vehicle'>, <class '__main__.Engine'>, <class 'object'>]\n"
     ]
    }
   ]
  },
  {
   "cell_type": "markdown",
   "source": [
    "# II. Iterator"
   ],
   "metadata": {
    "id": "dIJyUiNBFG8G"
   }
  },
  {
   "cell_type": "markdown",
   "source": [
    "11. (4б). Визначте рядок(str) з 4ма різними за значенням символами. Створіть ітератор на основі цього рядка. Викличте 5 разів функцію next на ітераторі, 4ри перших з них огорніть у ф-цію print()."
   ],
   "metadata": {
    "id": "13vsm0NyKIzL"
   }
  },
  {
   "cell_type": "code",
   "source": [
    "string = \"Olek\"\n",
    "string_iterator = iter(string)\n",
    "\n",
    "print(next(string_iterator))\n",
    "print(next(string_iterator))\n",
    "print(next(string_iterator))\n",
    "print(next(string_iterator))\n",
    "\n",
    "next(string_iterator)"
   ],
   "metadata": {
    "id": "81ntabAkKuz-",
    "colab": {
     "base_uri": "https://localhost:8080/",
     "height": 251
    },
    "outputId": "2c96fdf7-3f7f-44e4-b527-8674526647ad"
   },
   "execution_count": 64,
   "outputs": [
    {
     "output_type": "stream",
     "name": "stdout",
     "text": [
      "O\n",
      "l\n",
      "e\n",
      "k\n"
     ]
    },
    {
     "output_type": "error",
     "ename": "StopIteration",
     "evalue": "",
     "traceback": [
      "\u001B[0;31m---------------------------------------------------------------------------\u001B[0m",
      "\u001B[0;31mStopIteration\u001B[0m                             Traceback (most recent call last)",
      "\u001B[0;32m<ipython-input-64-c50232fe8696>\u001B[0m in \u001B[0;36m<cell line: 0>\u001B[0;34m()\u001B[0m\n\u001B[1;32m      7\u001B[0m \u001B[0mprint\u001B[0m\u001B[0;34m(\u001B[0m\u001B[0mnext\u001B[0m\u001B[0;34m(\u001B[0m\u001B[0mstring_iterator\u001B[0m\u001B[0;34m)\u001B[0m\u001B[0;34m)\u001B[0m\u001B[0;34m\u001B[0m\u001B[0;34m\u001B[0m\u001B[0m\n\u001B[1;32m      8\u001B[0m \u001B[0;34m\u001B[0m\u001B[0m\n\u001B[0;32m----> 9\u001B[0;31m \u001B[0mnext\u001B[0m\u001B[0;34m(\u001B[0m\u001B[0mstring_iterator\u001B[0m\u001B[0;34m)\u001B[0m\u001B[0;34m\u001B[0m\u001B[0;34m\u001B[0m\u001B[0m\n\u001B[0m",
      "\u001B[0;31mStopIteration\u001B[0m: "
     ]
    }
   ]
  },
  {
   "cell_type": "markdown",
   "source": [
    "А що якщо викликати цю ж функцію на рядку?"
   ],
   "metadata": {
    "id": "aekWHGXOLRsO"
   }
  },
  {
   "cell_type": "code",
   "source": [
    "next(string)"
   ],
   "metadata": {
    "id": "mxATGsErLV1i",
    "colab": {
     "base_uri": "https://localhost:8080/",
     "height": 144
    },
    "outputId": "21a7ce25-e7f1-4a03-cba3-3636a9a74e71"
   },
   "execution_count": 63,
   "outputs": [
    {
     "output_type": "error",
     "ename": "TypeError",
     "evalue": "'str' object is not an iterator",
     "traceback": [
      "\u001B[0;31m---------------------------------------------------------------------------\u001B[0m",
      "\u001B[0;31mTypeError\u001B[0m                                 Traceback (most recent call last)",
      "\u001B[0;32m<ipython-input-63-50005732e4cf>\u001B[0m in \u001B[0;36m<cell line: 0>\u001B[0;34m()\u001B[0m\n\u001B[0;32m----> 1\u001B[0;31m \u001B[0mnext\u001B[0m\u001B[0;34m(\u001B[0m\u001B[0mstring\u001B[0m\u001B[0;34m)\u001B[0m\u001B[0;34m\u001B[0m\u001B[0;34m\u001B[0m\u001B[0m\n\u001B[0m",
      "\u001B[0;31mTypeError\u001B[0m: 'str' object is not an iterator"
     ]
    }
   ]
  },
  {
   "cell_type": "markdown",
   "source": [
    " 12. (5б). Опишіть своїми словами в одному реченні, як ви розумієте різницю між ітерабельними обʼєктами та ітераторами (можна на прикладі)."
   ],
   "metadata": {
    "id": "XwtMEopwJ4pH"
   }
  },
  {
   "cell_type": "markdown",
   "source": [
    "Ітерабельний об'єкт — це об'єкт, який можна проітерувати (перебрати) (наприклад, список або рядок), в свою чергу, ітератор — це об'єкт, що зберігає стан перебору і дозволяє по черзі отримувати елементи з ітерабельного об'єкта (наприклад, результат виклику iter() над списком елементів)."
   ],
   "metadata": {
    "id": "-sHrODc3KFn8"
   }
  },
  {
   "cell_type": "markdown",
   "source": [
    "13. (11б). Створіть клас, що має визначений Iterator Protocol та при кожному виклику next повертає назву дня тижня, поки вони не вичерпаються. Зверніть увагу, що порядок має значення."
   ],
   "metadata": {
    "id": "E9qJWmNbK8Gl"
   }
  },
  {
   "cell_type": "code",
   "source": [
    "class WeekIterator:\n",
    "    def __init__(self):\n",
    "        self.days = [\"Monday\", \"Tuesday\", \"Wednesday\", \"Thursday\", \"Friday\", \"Saturday\", \"Sunday\"]\n",
    "        self.index = 0\n",
    "\n",
    "    def __iter__(self):\n",
    "        return self\n",
    "\n",
    "    def __next__(self):\n",
    "        if self.index < len(self.days):\n",
    "            day = self.days[self.index]\n",
    "            self.index += 1\n",
    "\n",
    "            return day\n",
    "        else:\n",
    "            raise StopIteration\n",
    "\n",
    "\n",
    "week_iterator = WeekIterator()\n",
    "\n",
    "print(next(week_iterator))\n",
    "print(next(week_iterator))\n",
    "print(next(week_iterator))\n",
    "print(next(week_iterator))\n",
    "print(next(week_iterator))\n",
    "print(next(week_iterator))\n",
    "print(next(week_iterator))"
   ],
   "metadata": {
    "id": "cqx-g_RsLo6I",
    "colab": {
     "base_uri": "https://localhost:8080/"
    },
    "outputId": "29fd46be-d902-450d-ae55-1d28d3c91746"
   },
   "execution_count": 62,
   "outputs": [
    {
     "output_type": "stream",
     "name": "stdout",
     "text": [
      "Monday\n",
      "Tuesday\n",
      "Wednesday\n",
      "Thursday\n",
      "Friday\n",
      "Saturday\n",
      "Sunday\n"
     ]
    }
   ]
  },
  {
   "cell_type": "markdown",
   "source": [
    "# Вітаю! Ви велика(ий) молодець, що впоралась(вся). Похваліть себе та побалуйте чимось приємним. Я Вами пишаюся."
   ],
   "metadata": {
    "id": "Z3E3S_s1Fv7-"
   }
  }
 ]
}
